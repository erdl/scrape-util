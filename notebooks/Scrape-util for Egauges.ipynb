{
 "cells": [
  {
   "cell_type": "markdown",
   "metadata": {},
   "source": [
    "# Introduction\n",
    "\n",
    "This utility script is to be used to pull missing egauge data that cannot be otherwise access through the eGaurd site.  The commands to run the script is simple:\n",
    "\n",
    "             !python scrape-util 'project name' 'start date' 'end date'\n",
    "   \n",
    "An example command to retrieve missing data from the dhhl egauges from 7/20/2017 to 8/1/2017 would be:\n",
    "\n",
    "             !python scrape-util dhhl 7/20/2017 8/1/2017"
   ]
  },
  {
   "cell_type": "code",
   "execution_count": null,
   "metadata": {
    "collapsed": true
   },
   "outputs": [],
   "source": []
  }
 ],
 "metadata": {
  "kernelspec": {
   "display_name": "Python 3",
   "language": "python",
   "name": "python3"
  },
  "language_info": {
   "codemirror_mode": {
    "name": "ipython",
    "version": 3
   },
   "file_extension": ".py",
   "mimetype": "text/x-python",
   "name": "python",
   "nbconvert_exporter": "python",
   "pygments_lexer": "ipython3",
   "version": "3.6.1"
  }
 },
 "nbformat": 4,
 "nbformat_minor": 2
}
